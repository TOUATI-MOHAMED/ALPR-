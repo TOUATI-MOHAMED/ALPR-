{
  "nbformat": 4,
  "nbformat_minor": 0,
  "metadata": {
    "celltoolbar": "Diaporama",
    "kernelspec": {
      "display_name": "Python 3",
      "language": "python",
      "name": "python3"
    },
    "language_info": {
      "codemirror_mode": {
        "name": "ipython",
        "version": 3
      },
      "file_extension": ".py",
      "mimetype": "text/x-python",
      "name": "python",
      "nbconvert_exporter": "python",
      "pygments_lexer": "ipython3",
      "version": "3.5.3"
    },
    "colab": {
      "name": "01_Explorer_Sinudoides.ipynb",
      "provenance": [],
      "include_colab_link": true
    },
    "widgets": {
      "application/vnd.jupyter.widget-state+json": {
        "b897ba79f66d4f4a9509de3f9de3adff": {
          "model_module": "@jupyter-widgets/controls",
          "model_name": "VBoxModel",
          "state": {
            "_view_name": "VBoxView",
            "_dom_classes": [
              "widget-interact"
            ],
            "_model_name": "VBoxModel",
            "_view_module": "@jupyter-widgets/controls",
            "_model_module_version": "1.5.0",
            "_view_count": null,
            "_view_module_version": "1.5.0",
            "box_style": "",
            "layout": "IPY_MODEL_6cd61bbcb0fc4587997b155881530917",
            "_model_module": "@jupyter-widgets/controls",
            "children": [
              "IPY_MODEL_8e408e68a3eb4d539ca351814328ef35",
              "IPY_MODEL_115eddfdee8944f19068af1a29307871"
            ]
          }
        },
        "6cd61bbcb0fc4587997b155881530917": {
          "model_module": "@jupyter-widgets/base",
          "model_name": "LayoutModel",
          "state": {
            "_view_name": "LayoutView",
            "grid_template_rows": null,
            "right": null,
            "justify_content": null,
            "_view_module": "@jupyter-widgets/base",
            "overflow": null,
            "_model_module_version": "1.2.0",
            "_view_count": null,
            "flex_flow": null,
            "width": null,
            "min_width": null,
            "border": null,
            "align_items": null,
            "bottom": null,
            "_model_module": "@jupyter-widgets/base",
            "top": null,
            "grid_column": null,
            "overflow_y": null,
            "overflow_x": null,
            "grid_auto_flow": null,
            "grid_area": null,
            "grid_template_columns": null,
            "flex": null,
            "_model_name": "LayoutModel",
            "justify_items": null,
            "grid_row": null,
            "max_height": null,
            "align_content": null,
            "visibility": null,
            "align_self": null,
            "height": null,
            "min_height": null,
            "padding": null,
            "grid_auto_rows": null,
            "grid_gap": null,
            "max_width": null,
            "order": null,
            "_view_module_version": "1.2.0",
            "grid_template_areas": null,
            "object_position": null,
            "object_fit": null,
            "grid_auto_columns": null,
            "margin": null,
            "display": null,
            "left": null
          }
        },
        "8e408e68a3eb4d539ca351814328ef35": {
          "model_module": "@jupyter-widgets/controls",
          "model_name": "FloatSliderModel",
          "state": {
            "_view_name": "FloatSliderView",
            "style": "IPY_MODEL_9557ad9a20ca48ffaa4fefc893e04d12",
            "_dom_classes": [],
            "description": "f1",
            "step": 0.1,
            "_model_name": "FloatSliderModel",
            "orientation": "horizontal",
            "max": 1000,
            "_view_module": "@jupyter-widgets/controls",
            "_model_module_version": "1.5.0",
            "value": 220,
            "_view_count": null,
            "disabled": false,
            "_view_module_version": "1.5.0",
            "min": 200,
            "continuous_update": true,
            "readout_format": ".2f",
            "description_tooltip": null,
            "readout": true,
            "_model_module": "@jupyter-widgets/controls",
            "layout": "IPY_MODEL_3d97adb81ba34b0e8166467619bf6651"
          }
        },
        "115eddfdee8944f19068af1a29307871": {
          "model_module": "@jupyter-widgets/output",
          "model_name": "OutputModel",
          "state": {
            "_view_name": "OutputView",
            "msg_id": "",
            "_dom_classes": [],
            "_model_name": "OutputModel",
            "outputs": [
              {
                "output_type": "display_data",
                "metadata": {
                  "tags": []
                },
                "text/html": "\n                <audio controls=\"controls\" >\n                    <source src=\"data:audio/wav;base64,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\" type=\"audio/wav\" />\n                    Your browser does not support the audio element.\n                </audio>\n              ",
                "text/plain": "<IPython.lib.display.Audio object>"
              }
            ],
            "_view_module": "@jupyter-widgets/output",
            "_model_module_version": "1.0.0",
            "_view_count": null,
            "_view_module_version": "1.0.0",
            "layout": "IPY_MODEL_95fe33e6118e4d2fb42d38bf87cd4231",
            "_model_module": "@jupyter-widgets/output"
          }
        },
        "9557ad9a20ca48ffaa4fefc893e04d12": {
          "model_module": "@jupyter-widgets/controls",
          "model_name": "SliderStyleModel",
          "state": {
            "_view_name": "StyleView",
            "handle_color": null,
            "_model_name": "SliderStyleModel",
            "description_width": "",
            "_view_module": "@jupyter-widgets/base",
            "_model_module_version": "1.5.0",
            "_view_count": null,
            "_view_module_version": "1.2.0",
            "_model_module": "@jupyter-widgets/controls"
          }
        },
        "3d97adb81ba34b0e8166467619bf6651": {
          "model_module": "@jupyter-widgets/base",
          "model_name": "LayoutModel",
          "state": {
            "_view_name": "LayoutView",
            "grid_template_rows": null,
            "right": null,
            "justify_content": null,
            "_view_module": "@jupyter-widgets/base",
            "overflow": null,
            "_model_module_version": "1.2.0",
            "_view_count": null,
            "flex_flow": null,
            "width": null,
            "min_width": null,
            "border": null,
            "align_items": null,
            "bottom": null,
            "_model_module": "@jupyter-widgets/base",
            "top": null,
            "grid_column": null,
            "overflow_y": null,
            "overflow_x": null,
            "grid_auto_flow": null,
            "grid_area": null,
            "grid_template_columns": null,
            "flex": null,
            "_model_name": "LayoutModel",
            "justify_items": null,
            "grid_row": null,
            "max_height": null,
            "align_content": null,
            "visibility": null,
            "align_self": null,
            "height": null,
            "min_height": null,
            "padding": null,
            "grid_auto_rows": null,
            "grid_gap": null,
            "max_width": null,
            "order": null,
            "_view_module_version": "1.2.0",
            "grid_template_areas": null,
            "object_position": null,
            "object_fit": null,
            "grid_auto_columns": null,
            "margin": null,
            "display": null,
            "left": null
          }
        },
        "302c0e2189b7473db6215e8f4e399211": {
          "model_module": "@jupyter-widgets/controls",
          "model_name": "VBoxModel",
          "state": {
            "_view_name": "VBoxView",
            "_dom_classes": [
              "widget-interact"
            ],
            "_model_name": "VBoxModel",
            "_view_module": "@jupyter-widgets/controls",
            "_model_module_version": "1.5.0",
            "_view_count": null,
            "_view_module_version": "1.5.0",
            "box_style": "",
            "layout": "IPY_MODEL_1bf8c7f93f314889b2f836e31fbf9598",
            "_model_module": "@jupyter-widgets/controls",
            "children": [
              "IPY_MODEL_4e612677d91d42719b004eb68fba6d63",
              "IPY_MODEL_319eb438af3f4ba1b126ae5582ea984c",
              "IPY_MODEL_0ba5d58c5b294c8d955e702e0425ada2",
              "IPY_MODEL_c86d92c14185400780c2aadcda3799af",
              "IPY_MODEL_3a7ae706fa0640a59b9fc0efb80d3b7f"
            ]
          }
        },
        "1bf8c7f93f314889b2f836e31fbf9598": {
          "model_module": "@jupyter-widgets/base",
          "model_name": "LayoutModel",
          "state": {
            "_view_name": "LayoutView",
            "grid_template_rows": null,
            "right": null,
            "justify_content": null,
            "_view_module": "@jupyter-widgets/base",
            "overflow": null,
            "_model_module_version": "1.2.0",
            "_view_count": null,
            "flex_flow": null,
            "width": null,
            "min_width": null,
            "border": null,
            "align_items": null,
            "bottom": null,
            "_model_module": "@jupyter-widgets/base",
            "top": null,
            "grid_column": null,
            "overflow_y": null,
            "overflow_x": null,
            "grid_auto_flow": null,
            "grid_area": null,
            "grid_template_columns": null,
            "flex": null,
            "_model_name": "LayoutModel",
            "justify_items": null,
            "grid_row": null,
            "max_height": null,
            "align_content": null,
            "visibility": null,
            "align_self": null,
            "height": null,
            "min_height": null,
            "padding": null,
            "grid_auto_rows": null,
            "grid_gap": null,
            "max_width": null,
            "order": null,
            "_view_module_version": "1.2.0",
            "grid_template_areas": null,
            "object_position": null,
            "object_fit": null,
            "grid_auto_columns": null,
            "margin": null,
            "display": null,
            "left": null
          }
        },
        "4e612677d91d42719b004eb68fba6d63": {
          "model_module": "@jupyter-widgets/controls",
          "model_name": "FloatSliderModel",
          "state": {
            "_view_name": "FloatSliderView",
            "style": "IPY_MODEL_18870746104b45ac9b14ba7595ecc8ca",
            "_dom_classes": [],
            "description": "A",
            "step": 0.1,
            "_model_name": "FloatSliderModel",
            "orientation": "horizontal",
            "max": 1,
            "_view_module": "@jupyter-widgets/controls",
            "_model_module_version": "1.5.0",
            "value": 0.7,
            "_view_count": null,
            "disabled": false,
            "_view_module_version": "1.5.0",
            "min": 0,
            "continuous_update": true,
            "readout_format": ".2f",
            "description_tooltip": null,
            "readout": true,
            "_model_module": "@jupyter-widgets/controls",
            "layout": "IPY_MODEL_d518195ebc4745aea98e4b92f376856f"
          }
        },
        "319eb438af3f4ba1b126ae5582ea984c": {
          "model_module": "@jupyter-widgets/controls",
          "model_name": "FloatSliderModel",
          "state": {
            "_view_name": "FloatSliderView",
            "style": "IPY_MODEL_15a2db6e681d429690e2e77f7f7fad35",
            "_dom_classes": [],
            "description": "f",
            "step": 0.1,
            "_model_name": "FloatSliderModel",
            "orientation": "horizontal",
            "max": 1000,
            "_view_module": "@jupyter-widgets/controls",
            "_model_module_version": "1.5.0",
            "value": 440,
            "_view_count": null,
            "disabled": false,
            "_view_module_version": "1.5.0",
            "min": 1,
            "continuous_update": true,
            "readout_format": ".2f",
            "description_tooltip": null,
            "readout": true,
            "_model_module": "@jupyter-widgets/controls",
            "layout": "IPY_MODEL_bcf2c92f7b304f2aa2d618f1fdd77eb8"
          }
        },
        "0ba5d58c5b294c8d955e702e0425ada2": {
          "model_module": "@jupyter-widgets/controls",
          "model_name": "FloatSliderModel",
          "state": {
            "_view_name": "FloatSliderView",
            "style": "IPY_MODEL_ea6a91214c1148f4ae792403b335edb5",
            "_dom_classes": [],
            "description": "phi",
            "step": 0.1,
            "_model_name": "FloatSliderModel",
            "orientation": "horizontal",
            "max": 6.283185307179586,
            "_view_module": "@jupyter-widgets/controls",
            "_model_module_version": "1.5.0",
            "value": 3,
            "_view_count": null,
            "disabled": false,
            "_view_module_version": "1.5.0",
            "min": 0,
            "continuous_update": true,
            "readout_format": ".2f",
            "description_tooltip": null,
            "readout": true,
            "_model_module": "@jupyter-widgets/controls",
            "layout": "IPY_MODEL_a0856148d20f4138a1cede665757b0f6"
          }
        },
        "c86d92c14185400780c2aadcda3799af": {
          "model_module": "@jupyter-widgets/controls",
          "model_name": "IntSliderModel",
          "state": {
            "_view_name": "IntSliderView",
            "style": "IPY_MODEL_3a7348c5a7c746c0865a69f8496ae0d4",
            "_dom_classes": [],
            "description": "duree",
            "step": 1,
            "_model_name": "IntSliderModel",
            "orientation": "horizontal",
            "max": 3,
            "_view_module": "@jupyter-widgets/controls",
            "_model_module_version": "1.5.0",
            "value": 1,
            "_view_count": null,
            "disabled": false,
            "_view_module_version": "1.5.0",
            "min": 1,
            "continuous_update": true,
            "readout_format": "d",
            "description_tooltip": null,
            "readout": true,
            "_model_module": "@jupyter-widgets/controls",
            "layout": "IPY_MODEL_4b30c7f8da5d4e4d8b4e4dc1facabbe7"
          }
        },
        "3a7ae706fa0640a59b9fc0efb80d3b7f": {
          "model_module": "@jupyter-widgets/output",
          "model_name": "OutputModel",
          "state": {
            "_view_name": "OutputView",
            "msg_id": "",
            "_dom_classes": [],
            "_model_name": "OutputModel",
            "outputs": [
              {
                "output_type": "display_data",
                "metadata": {
                  "tags": []
                },
                "text/html": "\n                <audio controls=\"controls\" >\n                    <source src=\"data:audio/wav;base64,UklGRqQ+AABXQVZFZm10IBAAAAABAAEAQB8AAIA+AAACABAAZGF0YYA+AAAQEhHmJL0enOmGBoBFiK6emcAE6ggWcT9aYb93+38Tedpj0kLiGeTtCcRGobeJJYCyhbaZ07k94isObTgDXLd0nH9re6BodkmcIcn1KsvLpvmMwoCXgyOVU7OU2kEGMjFRVjtxwH5Iff9s0k80Kbf9f9KorK2Q3IH3gfmQHa0P01H+xSlKUFBtaH2rfvNw31WjMKcFAdrYss+Uc4PTgD2NOqe2y2L2MCL0Sflok3uQf3d0mFvjN5INqOFTuVqZhYUsgPKJrqGRxH3ueRpVQzpkRXn4f4h39mDsPnAVbekUwEqeD4gDgBuHf5ynvajmqBJ0PBlff3bifyR69WW2RTkdSPEUx5ujEItZgLuEspf+tu3exApXNZpZRXNNf0d8j2o8TOUkMvlMzkepg44sgdWCS5OdsFLX1gIFLsNTmW87fvB9wG53UmwsIQG11UivZ5J8gmqBUI+KquDP5vqHJplNfmutfB1/hHJgWMgzEQlI3Zm1t5ZIhHyAxIvMpJ3I+/LiHiNH+makesx/13XyXfE69xD85DO8bpuOhguAqohnn5DBG+sfF2dAEWIieP5/tngoY+BBzRjM7BDDiKBMiRmAB4ZhmsG6UeNFD2s5x1wqdbF/Hnv8Z45IiiCv9CnKAaZ+jKSA24PAlTa0o9tcBzcyIVe+ced+DX1qbPROJyic/HfR0qsikK6BKYKHkfatGNRs/9EqJlHibZ99gX5scAxVnS+MBPPY9rE1lDOD9IC7jQeoucx990Ej2kqaadx7eH8AdNFa5DZ5DJXgZ7iymDSFPIBgim6ijcWV744bRUTpZJ558X8idzxg9D1ZFFboH7+Una2HAoB5hzKdmr6+58ATbT3WX+l27H/OeUhlyEQlHC/wF8bYop6KRYAIhVeY57f/394LWDZkWr9zaX8CfPFpWEvVIxf4R813qAKOB4ERg+KTfLFf2PEDDS+YVCJwaX68fTFunVFjKwYAqtRtrtaRRoKVgdePXqvm0AH8lCd6Thds7Hz6fgRyklfFMvYHN9yztBeWAYSVgDyMk6WcyRT09B8OSKJn9Hq7f2h1MV31Od4P6ONDu8CaNoYTgBKJIaCIwjPsNRhbQcZig3j+f1d4dGLsQLcXtOsXws2f44gPgF6GDpuwu2XkXhBnOoldmnXDf9B6VmekR3gflfMoyTilBYyJgCGEX5YbtbPcdgg6M/BXP3IKf9B80msUThongftv0P6qmo+BgV6CF5LQriPVhgDbKwBScm7UfVV+5G84VJYucQPl1xexnZP2ghiBPI7VqL3Nl/hQJL9LOWoifF1/iHMJWuM1XwuD3323DJjlhE6A0Yowo4nGrvCiHDRFl2X1eeh/uXaAX/w8QRNA5yy+4JxOhwKA2YfnnY6/1OjXFGQ+kGBRd/R/dnmaZNlDERsW7xvFF6IuijSAWIX+mNK4EeH4DFc3K1s2dIN/u3tRaXJKxSL99kTMqqeCjeWAUIN6lFyybdkMBRQwbFWqcJR+hn2gbcJQWCrs/qDTlK1HkRKCwoFhkDOs7tEc/aEoWU+ubCh91n6DccNWwDHcBijbz7N5lbyDsYC2jFymncou9QYh90hHaEF7qH/2dG5c+DjFDtTiVboUmuCFHoB8id6ggcNL7UsZTkJ5Y+F4/X/1d75h+D+gFp3qIMETn3yICIC3hr2boLx65XYRYztJXgl2039/eq5muEZlHnvyKchypI+LcYBphACXAbbD3ZEJPTS9WL1yLH+QfDlrM00MJmb6ac8rqhSPV4GWgqmSrK8u1qIB5SzZUgBvB34mflpvYlOOLVYC2dY5sAiTuoI+gb+OpanCzrL5YCWjTNZqZnxAfw1zPlniNEUKcd6VtmeXmYRjgESL9KOHx8fxth0hRkJmSnrcf052w14DPCkSK+Y6vS6c8YYFgDyInZ6DwOvp7xVbP0lhtnf6fxx56mPoQvwZ/u0gxFehwIkmgKqFp5m+uSTiEg5WOPFbrHSaf3J7r2iLSbQh4vVBy96mBI3FgJGDFZU+s3vaJwYaMT5WL3G9fk59DW3mT0wp0f2X0rysupDhgfKB7ZAKrffSN/6tKTZQQm1ifa5+/3DyVbswwQUZ2uyy3ZR5g9CAMo0np5/LSPYXIt9J6miMe5J/gnSqW/o3rA3B4Wi5aZmMhSuA6ImcoXvEY+5gGj9DKmQ9efh/kncHYQI/ihWG6SrAW54YiASAEodunJG9j+aOEl08CF91duB/LHoEZsxFUh1i8SvHraMai1uAtISjl+m21N6rCj81iFk5c0p/TXydalFM/iRL+WTOWqmPjjCBz4I+k4mwOte9Au0tsFOMbzd+9X3NbopShSw7Ac3VXK90koGCZoFEj3eqyM/N+m4mhU1wa6d8IH+QcnNY4DMqCWDdrrXFlk+EeoC5i7mkhcjh8skeDkfrZp16zn/hdQReCDsRERblSbx+m5aGC4ChiFafecEC6wUXUEAAYhl4/n+/eDhj9kHmGOXsJsOaoFWJGoD/hVKaq7o44ysPVDm1XB91r38mewtoo0ijIMj0QMoTpomMp4DVg7KVIbSK20IHHzIOV7Jx434TfXdsCE9AKLb8j9Hmqy+QsoElgnqR4q0A1FP/uCoSUdVtmn2FfnlwH1W1L6YEC9kLskOUOYPxgLCN9KeizGP3KCPFSotp1Xt6fwt041r7NpIMruB9uMGYO4U6gFaKXKJ2xXzvdRsvRNpklnnyfyt3TWALPnIUcOg1v6WdtocCgHCHIZ2EvqXnphNWPcVf4Hbrf9Z5WGXeRD4cSPAuxuqiqIpHgAGFSJjSt+bfxQtANlFatHNnfwl8/2ltS+4jMfhfzYqoDY4KgQyD1JNnsUfY2AP1LoVUFnBlfsF9Pm6xUXsrIADC1IGu45FLgpGBy49Kq8/Q6Pt8J2VOCWzmfP5+EHKlV9wyEAhQ3Mi0JZYHhJOAMYyBpYXJ+/PbH/hHkmfter1/cnVDXQw6+A8B5Fm70Jo+hhKACIkQoHHCGuwcGEVBtmJ6eP5/YHiFYgNB0BfO6y7C3p/siBCAVob/mpq7TOREEFA6d12QdcJ/13plZ7lHkR+u80DJS6UQjIyAGoRQlga1mtxcCCMz3Vczcgd/1XzgaylOMyeb+4fQEaumj4WBWYIKkryuC9VtAMMr7FFlbs99WX7xb0tUri6LA/7XK7Grk/uCFIEwjsKops19+Dgkq0sqahx8X3+Tcxta+zV4C5zfk7cbmOyETIDHih6jcsaV8IkcHkWHZe556X/DdpJfEz1bE1nnQr7xnFeHAoDRh9adeL+76L4UTj6AYEd39H9+eapk7kMqGzDvMsUoojiKNoBRhe6Yvbj44N8MQDcZWyx0gX/Ce2Bph0reIhb3W8y8p42N6IBKg2yUSLJU2fME/C9ZVZ1wkH6Lfa1t1lBwKgb/uNOnrVSRF4K+gVSQH6zW0QP9iShET6BsI33Zfo9x1lbYMfUGQdvjs4eVwoOvgKqMSqaGyhX17SDiSDhoOnuqfwB1gFwPOd8O7eJruiOa6IUdgHKJzaBqwzHtMRk4Qmlj2Hj9f/53z2EOQLoWtuo3wSSfhogJgK+GrZuKvGHlXRFMOzhe/3XSf4Z6vWbORn4elfJAyISkmYtzgGOE8ZbstarddwkmNKpYsnIpf5Z8R2tITSUmgPqBzz6qII9bgZGCnJKYrxbWiAHNLMVS824Cfip+Zm91U6YtcALx1k2wFZPAgjqBs46SqarOmPlHJY5Mx2pgfEJ/GHNRWfo0XgqK3qq2dpeghGGAOYvio3DHrvGdHQxGMmZDet1/WHbUXhk8QxJE5k+9Ppz5hgWAM4iNnm3A0unVFUU/OWGtd/p/JHn6Y/5CFRoX7jfEaaHKiSeAo4WXmai5C+L4DT8431uhdJh/eHu+aKBJzSH89VnL8KYQjceAi4MHlSmzYtoNBgIxK1Yjcbl+U30abfpPZSnr/a/Sz6zGkOWB7oHgkPas39Ie/pUpIlA1bV19sn4LcQVW0zDaBTLaAbPrlH+DzYAmjRWnh8sv9v8hyknbaIZ7lH+MdLtbETjFDdrhfrl5mZSFKoDeiYuhZMRK7kcaKUMaZDR5+X+bdxdhGD+jFZ/pQMBsniGIBIAKh16ce7125nUSRjz3Xmx2338zehRm4UVrHXvxQse/oyWLXYCthJSX1La73pEKKDV1WS5zSH9UfKtqZUwWJWX5e85tqZuOM4HKgjCTdbAi16MC1S2cU39vM375fdpunlKdLFUB5dVwr4KShoJigTiPZKqwz7P6VSZwTWJroXwjf5tyhVj3M0QJed3DtdSWVYR3gK+Lp6RuyMfysB74RtxmlXrPf+t1FV4fOyoRL+VevI6bnoYKgJiIRZ9jwenq7BY6QPBhEHj9f8d4SWMMQv8Y/+w9w6ugX4kbgPeFQpqWuh/jEQ89OaNcFXWufy17Gmi4SLwg4vRXyiamlIyqgM6Do5UNtHHbKAcHMvtWpnHgfhh9hWwcT1go0Pyn0fmrO5C2gSCCbZHOrejTOf+gKv5Qx22VfYl+hXAzVc0vwAQk2R+yUZQ/g+6ApI3hp4rMSfcPI7FKfWnPe3x/FnT1WhI3rAzH4JK40JhChTmATIpLol/FYu9cGxpEymSOefJ/NXdeYCE+jBSJ6Eu/tZ2/hwKAaIcRnW6+jOeNEz89tF/Wdup/3nloZfNEVxxi8EXG+6KyikmA+oQ4mL23zd+rCyk2P1qpc2R/D3wOaoFLByRL+HfNnagZjg6BBoPGk1OxLti+A90uclQJcGF+xn1LbsVRkys6ANrUla7wkVCCjYG/jzert9DO+2MnUU78a+F8AX8ccrhX9DIqCGnc3bQ0lg6EkYAmjG+lbsnh88If40eDZ+V6v398dVRdIzoREBrkb7vfmkaGEoD/iP+fW8IA7AIYLkGlYnF4/n9peJViGUHpF+frRMLvn/aIEYBOhu+ahLsz5CoQOjpmXYZ1wH/eenRnzkeqH8jzV8ldpRuMjoAUhEKW8bSB3EMICzPKVydyBH/bfO5rPU5LJ7X7n9Akq7OPiYFVgv2RqK7y1FMAqyvYUVhuy31dfv1vX1TGLqUDFtg/sbmTAYMRgSWOr6iOzWT4HySWSxxqFXxif55zLVoSNpILtd+otyqY84RKgLyKDaNbxnvwcBwJRXdl5nnqf812o18pPXQTc+dYvgGdX4cCgMiHxZ1hv6LopRQ3Pm9gPnfzf4Z5umQEREMbSe9IxTqiQoo3gEqF35inuN/gxQwpNwdbIXR/f8h7bmmcSvciMPdzzM+nmY3rgESDXpQzsjzZ2QTkL0ZVkXCMfpB9um3qUIgqIP/Q07utYZEbgrqBSJAMrL7R6fxwKDBPkmwefd1+m3HpVvAxDwdZ2/izlZXIg6yAn4w4pm7K+/TUIM1IKWgze6x/C3WSXCY5+A4G44C6M5rvhRyAaIm8oFPDGO0YGSJCWWPQeP1/B3jgYSRA0xbQ6k3BNZ+PiAmApoadm3S8SOVDETU7Jl71ddB/jnrNZuNGlx6u8lfIlqSki3WAXITilte1kd1dCQ40mFimciZ/nHxVa1xNPSaa+pnPUaosj1+Bi4KPkoSv/dVuAbQssVLmbv59L35zb4lTvi2KAgrXYbAjk8WCN4Gnjn+pk85++S4leUy5alp8RX8jc2NZETV4CqPev7aFl6eEX4Avi9CjWceU8YQd9kUjZjt63n9iduZeMDxcEl3mZb1OnAKHBIAqiHyeVsC46bwVLj8oYaR3+X8seQpkFEMuGjHuTcR6odSJKICbhYiZk7ny4d8NKDjNW5d0ln9/e81otUnmIRb2cMsDpxuNyoCFg/mUFbNK2vQF6jAYVhdxtn5YfShtDlB9KQT+x9LjrNOQ6oHqgdOQ46zH0gT+fCkOUCdtWH22fhdxGFbrMPQFStoVs/mUhYPKgBuNAqdwyxX25iG1Scxof3uWf5d0zVsoON8N8+GTuYiZm4UogNSJeqFNxDDuLhoTQwpkLHn5f6R3KGEvP7wVuelXwHyeKogEgAKHTpxlvV3mXBIwPOVeYnbefzt6I2b3RYQdlfFZx9CjL4tfgKaEhZe/tqLedwoRNWNZI3NFf1p8uWp6TC8lf/mTzoCpp443gcWCI5NgsAnXiQK9LYlTc28ufv59526yUrUsbgH+1YSvj5KMgl+BLI9RqpjPmfo9JlxNVGucfCZ/pnKYWA80XgmS3di145ZchHWApIuVpFfIrvKXHuNGzWaOetB/9XUnXjY7RBFI5XS8npunhgmAj4g0n03Bz+rTFiRA32EHeP1/0HhZYyJCGRkY7VTDvKBpiRyA74UymoC6BuP4DiY5klwKdax/NHspaM1I1SD79G/KOKafjKyAyIOVlfizWdsOB+8x6Vaacdx+Hn2TbDFPcSjp/L/RDKxIkLqBG4Jgkbut0NMf/4gq6lC6bZB9jX6RcEZV5S/ZBDzZNLJflESD64CZjc+nc8ww9/YinEpuach7f38hdAdbKTfFDODgqLjfmEqFN4BCijmiSMVJ70IbBES6ZIZ5838+d29gOD6lFKLoYr/GnciHAoBfhwGdV75y53QTKT2iX8x26n/meXhlCUVwHHzwXMYNo72KS4DzhCmYqLe035ILEjYtWp5zYn8VfBxqlksgJGT4js2wqCWOEYEAg7iTP7EW2KQDxS5eVP1vXX7LfVhu2VGrK1MA89Sprv2RVYKJgbKPJKuf0LT7Syc9Tu5r23wEfydyy1cMM0MIgtzytEKWFISOgBuMXKVWycfzqR/OR3Rn3nrAf4Z1Zl06OisQM+SEu++aToYRgPaI7p9Ewufr6RcYQZViaHj+f3F4pWIvQQMYAexbwgCg/4gSgEaG35puuxrkERAjOlRdfHW/f+Z6hGfkR8Mf4fNuyW+lJoyRgA6EM5bctGjcKQj0MrhXHHIBf+F8/GtRTmQnzvu30Derv4+NgVCC8JGUrtrUOQCTK8VRS27GfWF+CnByVN4uvgMv2FSxxpMGgw6BGY6dqHbNSvgGJIFLDWoPfGR/qXM/Wik2rAvN3723OZj6hEmAsor7okTGYvBXHPNEaGXeeep/1na0X0A9jROM526+EZ1ohwKAv4e1nUu/iOiLFCE+XmA1d/J/jnnKZBpEXBtj71/FS6JMijmAQoXQmJK4xuCrDBI39VoWdHx/z3t9abFKECNK94vM4qelje6AP4NQlB+yI9m/BMwvMlWFcIl+lX3Ibf5QoSo5/+jTz61ukSCCtoE7kPmrptHP/FgoHE+FbBh94H6mcfxWCDIpB3LbDbSklc6DqoCUjCWmV8rh9LsguEgaaCx7rn8VdaRcPTkSDx/jlrpCmveFG4BfiaqgPcP+7P8YC0JIY8d4/X8QePBhO0DsFunqY8FFn5iICoCeho6bXrwu5SoRHjsVXut1z3+Vetxm+UawHsjyb8iopK+Ld4BVhNSWwrV53UQJ9zOFWJtyI3+hfGNrcU1WJrP6sM9kqjiPYoGGgoGScK/l1VQBnCyeUtpu+X0zfoBvnFPWLaMCItd1sDCTyoIzgZuObKl7zmX5FiVlTKtqVHxIfy5zdlkoNZIKvN7UtpSXrYRdgCSLvqNBx3vxax3hRRNmM3rff2x2915HPHUSduZ7vV+cCocEgCGIa55AwJ/pohUYPxdhm3f5fzV5G2QqQ0caSu5kxIuh3okqgJSFeJl9udnhxQ0ROLtbjHSUf4Z722jKSf8hL/aIyxWnJo3NgH+D65QAszHa2gXTMAVWC3Gyfl19NW0iUJUpHv7f0vas4JDugeWBxpDPrK/S6v1kKfpPGm1Tfbl+I3ErVgMxDgZj2iqzB5WLg8eAEI3wpljL+/XNIaBJvmh4e5h/onTfW0A4+Q0M4qm5mJmjhSeAyolooTbEF+4UGv1C+mMkefp/rXc5YUU/1hXS6W3AjZ4ziAWA+YY+nE+9Q+ZCEhk81F5Ydt1/Q3ozZgxGnR2u8XDH4qM6i2GAoIR2l6q2it5eCvk0UVkYc0J/YHzIao5MRyWZ+avOk6mzjjqBv4IVk0yw8dZvAqUtdVNmbyp+An7zbsVSzSyIARbWmK+ckpGCW4Efjz6qgM+A+iQmR01Ga5Z8KX+ycqpYJjR3Cavd7bXxlmOEc4CZi4OkQMiU8n4ezUa9ZoZ60n//dTheTDtdEWHliryum6+GCYCFiCOfNsG26rkWDkDPYf53/X/YeGljOEIyGTLtasPNoHKJHYDnhSOaarrt4t4ODzmAXAB1qn86ezho4kjuIBX1hspKpquMr4DCg4eV47NA2/UG2DHWVo5x2X4jfaBsRU+JKAP919EgrFWQvoEXglORp6240wX/cCrWUK1ti32Qfp5wWVX9L/MEVdlIsm2USoPogI2NvKdbzBb33iKHSl9pwnuBfyx0GVtBN98M+eC9uO+YUYU2gDiKKKIxxS/vKRvuQ6pkfnn0f0h3gGBOPr4Uu+h4v9ad0YcCgFaH8JxBvlnnWhMSPZFfw3bpf+55h2UfRYkclfBzxh+jx4pMgOyEGpiSt5vfeAv6NRtak3Nffxx8K2qrSzgkfvimzcOoMY4UgfuCq5Mrsf3XigOtLktU8G9ZftB9ZW7sUcMrbQAL1byuCpJagoWBpo8Rq4fQmvsyJyhO4GvVfAd/M3LdVyMzXQia3Aa1UZYbhIyAEIxKpT/JrvORH7lHZWfXesJ/kHV4XVE6RBBM5Jq7/5pWhhCA7Ijdny3CzevQFwJBhGJgeP5/eni2YkVBHBga7HHCEaAJiRKAPobPmlm7AeT3Dww6Q11ydb1/7XqTZ/lH3B/784XJgaUxjJOAB4Qllse0UNwPCNwypVcQcv5+5nwKbGZOfCfo+8/QS6vLj5GBS4LjkYCuwtQfAHorsVE+bsF9ZX4WcIVU9i7YA0fYaLHUkwyDCoENjoqoX80w+O4jbEv/aQl8Z3+0c1JaQTbFC+bf0rdImAGFR4CoiumiLcZI8D4c3URYZdZ563/gdsVfVj2nE6XnhL4inXCHAoC2h6WdNb9v6HIUCj5NYCt38n+WedpkMER1G3zvdsVdolaKOoA7hcGYfLit4JIM+zbjWgt0en/Ve4tpxkooI2P3osz0p7CN8YA5g0OUCrIL2aUEtC8fVXlwhX6afdVtElG5KlP/AdTirXqRJYKygS+Q5auO0bX8PygIT3dsE33jfrJxD1cfMkIHi9sitLKV1YOngImME6ZAysj0oyCiSAtoJXuvfx91tVxUOSwPOOOsulKa/4UagFWJmaAmw+Xs5hj1QThjv3j+fxl4AWJRQAYXAut6wVafoYgLgJaGfptIvBXlEBEHOwRe4XXOf51662YOR8ke4fKGyLqkuYt6gE+ExZattWDdKgnfM3JYj3Igf6d8cWuFTW4mzfrIz3eqRI9mgYGCdJJcr83VOwGELIpSzW71fTd+jG+wU+4tvQI614mwPpPQgjCBj45ZqWPOS/n9JFBMnWpNfEt/OnOIWUA1qwrV3um2o5e0hFuAGousoyrHYfFSHctFBGYseuB/dnYIX108jxKQ5pG9b5wThwSAGIhbnirAhumJFQI/BmGRd/h/PXkrZD9DYBpk7nvEnaHoiSuAjIVpmWi5wOGrDfo3qVuBdJJ/jXvqaN9JGCJJ9p/LKKcyjdCAeYPclOyyGdrABbsw8lX/cK5+Y31CbTZQrik4/vfSCq3tkPKB4YG6kLusltLQ/Uwp5k8MbU59vX4vcT5WGjEoBnvaPrMVlZGDxYAEjd2mQcvi9bQhi0mvaHF7mn+sdPFbVzgSDiXivrmnmaqFJoDAiVehIMT97fsZ50LqYxx5+n+2d0phWz/vFevpg8CenjyIBYDxhi6cOb0q5ikSAjzDXk523H9KekJmIka2Hcjxh8f0o0SLY4CZhGeXlLZx3kQK4jQ+WQ1zQH9mfNZqo0xgJbL5ws6mqb+OPoG6ggiTOLDY1lYCjS1iU1lvJn4HfgBv2VLlLKIBLtasr6qSloJXgROPK6ppz2b6DCYzTThrkHwsf71yvVg+NJEJw90CtgCXaYRxgI6LcaQpyHvyZR64Rq5mf3rTfwl2Sl5jO3cReuWgvL6bt4YIgHyIE58gwZ3qoBb3P75h9Xf9f+F4eWNOQksZS+2Bw96gfIkegOCFE5pVutTixQ74OG5c9nSof0F7R2j3SAchL/Wdyl2mtoyxgLyDeJXOsyfb2wbAMcNWg3HWfih9rmxZT6EoHf3v0TOsYZDDgRKCRpGTraDT7P5XKsJQoG2GfZR+qnBsVRQwDQVt2V2ye5RQg+WAgo2pp0PM/PbFInJKUWm7e4N/N3QrW1g3+QwS4dK4/phYhTSALooWohrFFu8QG9hDmmR2efR/UXeRYGU+2BTV6I6/553ahwKATofgnCu+QOdBE/w8gF+5duh/9nmXZTRFohyv8IrGMKPRik6A5YQLmH23gt9eC+M1CFqHc11/Inw5asBLUSSY+L7N1ag8jhiB9YKdkxax5ddxA5UuOFTkb1R+1H1ybgBS3CuHACPV0K4Ykl6CgYGaj/2qb9CB+xonFE7Sa9B8Cn8/cvBXOzN3CLPcG7VfliGEiYAFjDilKMmU83gfo0dWZ9B6w3+bdYldaDpeEGbksLsPm16GD4DjiMyfF8K067YX7EB0Yld4/n+DeMZiW0E1GDPsiMIioBKJE4A2hr+aQ7vo494P9TkxXWd1u3/0eqJnDkj1HxX0ncmTpTyMlYABhBaWs7Q33PYHxDKSVwRy+n7sfBdsek6VJwL859Beq9iPlYFGgtaRba6q1AYAYiudUTFuvH1pfiJwmVQOL/IDYNh8seKTEYMHgQGOd6hHzRf41SNXS/FpAnxpf79zZFpYNt8L/9/ot1eYCYVFgJ2K2KIWxi7wJRzIREhlznnsf+l21l9tPcATv+eavjKdeYcCgK2HlJ0fv1boWBT0PTxgInfxf5556mRGRI4blu+NxW6iYIo8gDSFsZhnuJTgeAzjNtFaAHR4f9x7mmnbSkEjffe6zAeovI30gDODNZT2sfLYjASdLwxVbHCBfp994m0mUdEqbf8Z1Path5Epgq6BIpDSq3bRnPwnKPNOamwNfed+vnEiVzcyXAej2za0wJXbg6SAfowBpijKrvSKII1I/Gcee7F/KnXHXGs5RQ9R48G6YpoHhhmAS4mIoA/DzOzMGN9BKGO2eP5/IngRYmdAHxcc65DBZ5+riAuAjoZumzK8/OT3EPE68l3Xdcx/pHr7ZiNH4h778p3IzKTEi3yASIS2lpi1R90QCcgzYFiEch1/rXx/a5pNhybn+uDPiqpQj2qBfIJnkkivtNUhAWwsdlLAbvB9O36Zb8NTBi7XAlPXnbBLk9WCLIGDjkapS84x+eQkPEyOakd8TX9Fc5tZVzXFCu3e/rayl7uEWYAPi5ujE8dI8TgdtkX0ZSR64n9/dhlfdDyoEqnmp71/nBuHA4APiEqeE8Bs6XAV6z72YIh3+H9FeTtkVUN6Gn3uksSuofKJLICFhVqZUrmn4ZIN4zeXW3d0kH+Te/lo9EkxImP2t8s6pz2N04Bzg86U17IA2qcFozDfVfNwq35ofVBtSlDGKVL+D9MerfqQ94Hcga2QqKx+0rf9MynST/9sSH3BfjtxUVYyMUEGlNpTsyOVl4PCgPmMy6Yqy8j1myF2SaBoa3ucf7d0A1xuOCwOPuLUubaZsoUlgLaJRqEJxOTt4hnRQtpjE3n7f793WmFyPwgWBeqawK6eRYgGgOiGHpwjvRHmDxLrO7FeRHbbf1J6UmY3Rs8d4fGexwakT4tlgJKEWJd/tljeKwrKNCxZAXM9f2x85Gq4THklzPnazrmpy45BgbWC+pIksMDWPAJ1LU5TTW8hfgt+DW/sUv0svAFH1sCvt5KbglOBB48XqlHPTPrzJR5NKmuKfC9/yXLPWFU0qwnc3Re2D5dwhG+AhItfpBHIYfJMHqJGnmZ3etR/E3ZbXno7kBGU5ba8zpu/hgiAc4gCnwnBg+qHFuE/rWHsd/x/6XiKY2RCZBll7ZjD8KCGiR+A2IUEmj+6u+KrDuE4XFzrdKZ/SHtWaA1JHyFI9bXKb6bBjLSAtoNqlbqzD9vBBqgxsFZ3cdJ+Ln28bG1Puig3/QfSR6xukMeBDoI6kYCth9PS/j8qrlCSbYF9mH62cH9VLDAmBYbZcbKJlFaD4oB2jZenLMzi9qwiXUpCabR7hX9BdD1bbzcSDSvh6LgNmWCFM4AkigWiBMX87vcawkOKZG559X9ad6Jgez7xFO7opL/3neKHAoBFh9CcFb4n5ycT5TxvX7B253/9eadlSkW8HMjwocZCo9yKUIDehPyXaLdp30ULzDX2WXxzWn8ofEdq1EtqJLH41c3oqEiOG4Hwgo+TArHM11cDfS4kVNdvUH7ZfX9uFFL0K6EAO9XkriWSY4J9gY2P6qpX0Gf7ASf/TcRrynwOf0pyA1hSM5AIzNwwtW6WKISHgPqLJqURyXvzXx+OR0dnyXrFf6V1m11/OngQf+TGux+bZoYPgNmIu58AwprrnRfWQGNiTnj+f4t412JxQU8YTeyfwjOgHIkUgC6GsJotu87jxA/eOR9dXXW6f/t6sWcjSA4gLvS0yaalR4yYgPqDCJaetB7c3AetMn9X+XH3fvJ8JWyOTq0nHPz/0HGr5I+ZgUGCyJFZrpHU7f9KK4lRJG64fW1+L3CsVCUvDAR42JGx8JMXgwSB9o1kqC/N/fe8I0NL4mn8e2x/ynN2Wm82+QsY4P23ZpgQhUSAk4rGov/FFfALHLJEOGXGee1/83bnX4Q92hPY57C+Qp2ChwKApYeEnQm/POg/FN09K2AYd/B/pnn6ZFtEpxuv76TFgKJrij2ALIWimFK4fOBfDMw2vlr1c3V/4nuoafBKWiOX99HMGqjHjfeALYMnlOKx2thyBIUv+VRgcH1+pH3vbTpR6SqG/zHUCq6UkS6CqYEWkL6rXtGC/A4o305cbAh96n7KcTRXTzJ2B7zbS7TPleGDooBzjO6lEcqU9HEgeEjtZxd7s380ddlcgjlfD2rj17pxmg6GGIBCiXeg+cKy7LMYyUEYY654/n8reCJifUA4FzXrp8F4n7SIDICGhl6bHbzj5N0Q2jrhXc11y3+regpnOUf7HhXztMjepM+LfoBChKiWg7Uu3fcIsDNNWHhyGn+zfI1rrk2gJgH7+M+eql2PboF3glmSNK+c1QcBVCxjUrNu631AfqVv11MeLvECa9eysFmT2oIpgXeOM6k0zhj5zCQnTIBqQXxQf1BzrVlvNd8KBt8Ut8GXwoRXgAWLiaP8xi7xHx2gReVlHHrjf4l2K1+LPMISwua9vY+cI4cDgAaIOZ79v1PpVhXVPuVgf3f3f015S2RrQ5Mal+6pxL+h/IkugH2FSpk9uY7heA3LN4VbbHSOf5p7CGkJSkkifPbOy02nSY3WgG2DwJTDsujZjQWLMMxV5nCnfm19XW1eUN4pa/4n0zGtBpH7gdiBoJCUrGbSnf0bKb1P8WxDfcR+R3FkVkoxWwat2mizMpWdg7+A7oy4phLLr/WCIWFJkWhke55/wXQVXIU4RQ5X4um5xpm6hSOArYk0ofLDyu3JGbxCymMLeft/yHdrYYg/IhYe6rDAv55PiAaA4IYOnA29+OX2EdU7oF47dtl/WXphZk1G6B378bXHGKRZi2eAi4RKl2q2P94RCrM0GVn2cjp/cnzyasxMkSXm+fLOzKnXjkWBsILtkhCwqNYiAl0tOlNAbx1+EH4abwBTFS3VAV/W1K/EkqCCUIH7jgSqOc8y+tslCk0ca4R8MX/UcuJYbTTECfXdLLYdl3eEbYB5i02k+sdH8jMejUaPZnB61n8ddmxekTuqEa3lzLzem8eGB4BqiPGe88Bq6m0Wyz+dYeN3/H/yeJpjekJ+GX7trsMBoY+JIIDQhfSZKrqh4pIOyjhKXOF0pH9Pe2VoIkk4IWL1zMqBpsyMt4Cvg1yVpbP22qgGkTGdVmtxz34zfclsgU/SKFD9H9JarHqQy4EJgi2RbK1v07j+JyqaUIVtfH2cfsJwk1VEMEAFntmFspeUXIPfgGuNhKcUzMn2kyJISjNprnuIf0x0UFuGNywNROH9uB2ZZ4UygBqK86HtxOPu3hqsQ3pkZnn2f2N3smCSPgsVB+m7vwie64cDgD2Hv5z/vQ3nDhPOPF5fpnbmfwV6tmVgRdUc4vC4xlSj5opSgNeE7ZdTt1HfKwu0NeRZcXNYfy98VmrpS4Iky/jtzfuoVI4egeqCgpPusLTXPQNlLhFUy29Mft59jG4oUgwsugBU1fiuMpJognmBgY/Xqj/QTfvpJutNtmvEfBF/VnIVWGozqgjk3EW1fJYuhIWA74sUpfnIYfNGH3lHN2fBesZ/r3WsXZY6kRCY5Ny7Lptuhg6A0Iiqn+rBgeuEF8BAU2JFeP5/lHjnYodBaBhm7LXCRKAliRWAJoagmhi7teOrD8c5Dl1Tdbh/AnvAZzlIJyBI9MvJuKVSjJqA9IP5lYm0BtzCB5UybFftcfR+93wzbKNOxic1/BfRhavwj52BPIK7kUWuedTT/zIrdVEXbrN9cX47cL9UPS8lBJHYpbH+kx2DAYHqjVGoGM3j96QjLkvUafZ7bn/Vc4hahzYSDDHgErh1mBeFQoCJirSi6MX77/IbnEQpZb557n/8dvhfmj3zE/Hnxr5TnYuHAoCch3Od8r4j6CYUxz0aYA938H+ueQllcUTBG8nvu8WRonWKP4AlhZOYPLhj4EUMtTasWupzc3/pe7dpBEtzI7D36cwsqNON+oAogxmUzbHB2FgEbS/lVFRweX6pffxtTlECK6D/SdQerqKRM4KlgQmQq6tG0Wj89ifLTk5sAn3tftZxR1dmMo8H1dtgtN2V54OfgGiM3KX6yXv0WCBjSN5nEHu1fz5161yZOXgPhOPtuoGaFoYXgDiJZqDiwpnsmhizQQdjpXj+fzR4MmKUQFIXT+u9wYmfvYgNgH6GTpsHvMrkxBDDOs9dw3XJf7N6GWdORxQfLvPLyPCk2ouAgDuEmZZutRbd3QiZMzpYbXIXf7l8m2vDTbgmGvsQ0LGqaY9ygXKCTJIgr4TV7QA8LE9Spm7nfUR+sm/qUzYuCgOE18awZ5PggiWBa44hqRzO/vizJBJMcmo7fFN/W3O/WYY1+Aof3ym30JfJhFWA+4p3o+XGFPEGHYpF1WUVeuR/k3Y8X6E82xLb5tO9n5wshwOA/Ycpnue/Ouk9Fb4+1GB2d/d/VnlbZIFDrBqw7r/E0aEGii+AdoU7mSi5deFfDbQ3c1thdIx/oXsWaR5KYiKW9ubLX6dUjdmAZ4OylK6yz9lzBXMwuFXacKN+cn1rbXJQ9ymF/kDTRa0TkQCC1IGTkIGsTtKD/QMpqU/kbD59yH5TcXdWYjF1BsXafLNAlaODvIDijKam+8qV9WohTEmCaF17oH/MdCdcnDhfDnDi/7nVmcGFIoCjiSOh28Ox7bAZpkK6YwJ5+3/Rd3xhnz87FjfqxsDQnliIBoDYhv6b97zf5dwRvjuPXjF22H9henBmYkYBHhXyzMcqpGSLaYCEhDuXVbYm3vcJmzQHWetyN394fABr4UyqJf/5Cs/fqeOOSYGqgt+S/K+P1ggCRS0nUzNvGX4UfidvFFMtLe8Bd9bor9KSpYJMge+O8akhzxn6wiX1TA5rfnw0f99y9ViENN4JDt5BtiyXfoRrgG6LPKTjxy7yGh54RoBmaHrXfyd2fl6oO8MRxuXivO6b0IYHgGGI4J7cwFDqVBa0P4xh2nf8f/p4qmOQQpcZmO3FwxKhmYkhgMmF5ZkUuojieA6zODhc1nSif1Z7dGg3SVEhfPXkypSm14y6gKmDTpWQs97ajgZ5MYpWX3HLfjl912yVT+soav030m6sh5DPgQSCIJFYrVfTnv4OKoZQeG13faB+znCmVVwwWgW32ZqypZRig9yAX41xp/3Lr/Z7IjNKJWmne4p/V3RiW503Rg1d4RK5LJlvhTCAEIriodbEye7FGpdDamReefZ/bXfDYKg+JBUh6dG/GJ70hwOANIevnOm99Ob0Erg8TV+cduV/DXrGZXVF7hz78M/GZqPwilOA0ITelz63ON8RC5010Vlmc1V/NXxkav5LmyTl+AXODqlgjiKB5YJ0k9qwnNckA00u/VO+b0h+4n2ZbjtSJCzUAGzVDK8/km2CdYF1j8SqJ9A0+9Am102oa758FH9hcihYgjPECP3cWrWLljWEgoDkiwKl4shH8y0fY0coZ7p6yH+5db5drDqrELHk8bs+m3aGDYDGiJqf08Fo62sXqUBCYj14/n+dePdinkGBGIDszMJVoC+JFoAehpCaAruc45EPsDn8XEl1tn8Je89nTkg/IGL048nKpV2MnYDug+uVdLTt26kHfjJaV+Fx8X79fEFst07eJ0/8L9GYq/2PoYE4gq6RMa5h1Ln/GSthUQlurn11fkhw0lRVLz8Eqdi5sQuUIoP+gN6NP6gAzcr3iyMZS8Vp73txf+BzmlqeNiwMSuAnuISYHoVBgH+Ko6LRxeLv2RuGRBlltnnvfwZ3CWCxPQ0UCujdvmOdk4cBgJOHY53cvgroDBSwPQlgBnfvf7Z5GWWHRNob4u/SxaOif4pBgB6FhJgnuErgKwyeNppa4HNxf+97xWkZS4sjyvcBzT+o343+gCKDC5S5sanYPwRVL9JUR3B1fq59Cm5iURoruv9h1DKur5E4gqGB/Y+Yqy7RT/zeJ7dOQGz9fPF+4XFaV34yqQft23W065Xug52AXYzKpeLJYfQ/IE1Iz2cJe7Z/SXX8XLA5kg+d4wK7kZoehhaAL4lVoMvCf+yBGJ1B92KceP5/PXhDYqpAaxdo69TBmp/HiA2AdoY+m/G7seSqEKw6vl25dch/unooZ2RHLR9I8+PIAqXli4OANISKllq1/dzDCIEzKFhhchR/v3ypa9dN0SY0+yjQxKp1j3WBbYI/kgyvbNXUACQsO1KZbuJ9SH6/b/5TTi4kA5zX2rB0k+WCIoFgjg6pBM7k+Jok/UtkajV8VX9mc9JZnTUSCzjfPrffl9CEU4DwimWjzsb78O0cdUXFZQ165X+cdk1fuDz1EvTm6r2vnDSHA4D0hxie0b8g6SQVqD7DYG139n9eeWtkl0PFGsru1sTioRCKMIBuhSyZErlc4UUNnTdhW1d0in+neyVpM0p7IrD2/ctyp1+N3IBhg6SUmrK22VkFWzClVc5wn353fXhthlAPKp/+WNNZrSCRBILPgYeQbaw20mr96iiVT9ZsOH3Lfl9xilZ5MY4G3tqRs06VqYO6gNeMk6bjynv1USE2SXNoVnuif9Z0OVyzOHkOieIUuuWZyYUhgJmJEqHFw5ftlhmQQqpj+nj8f9p3jGG1P1QWUerdwOGeYYgHgNCG7pvhvMXlwxGnO31eJ3bXf2l6gGZ4RhoeLvLkxzykb4trgH6ELJdAtg3e3gmENPRY33I0f358Dmv1TMIlGfoiz/Kp745MgaWC0pLor3fW7wEtLRNTJm8Ufhl+M28nU0UtCQKQ1vyv35KrgkiB447eqQnP//mpJeFMAGt4fDd/63IHWZw0+Akn3la2O5eEhGmAZIsqpMzHFPIBHmJGcGZheth/MXaPXr473RHf5fi8/pvYhgaAV4jPnsbAN+o7Fp4/e2HRd/t/A3m6Y6ZCsBmx7dzDI6GjiSKAwYXVmf65b+JfDpw4J1zMdKB/XXuDaExJaiGV9fvKpqbjjLyAo4M/lXyzxdp0BmExd1ZTcch+Pn3kbKpPAymE/U/SgayUkNSBAIITkUWtP9OF/vYpclBqbXJ9o37bcLlVdDB0Bc/ZrrKzlGeD2YBUjV+n5cuV9mIiHkoWaaF7jH9idHRbtTdfDXbhKLk7mXaFL4AGitGhv8Sw7qsagUNaZFV59392d9Rgvz49FTrp578pnv2HA4Ash5+c073b5tsSoTw8X5N25H8VetVli0UHHRXx5sZ3o/uKVYDJhM+XKLcf3/gKhjW/WVtzUn87fHJqE0y0JP74HM4hqWyOJYHggmaTxbCD1woDNS7qU7JvRH7nfaZuT1I8LO4AhNUgr0yScoJygWmPsKoP0Br7uCbCTZpruXwXf21yO1iZM90IFt1vtZmWO4SAgNqL8KTLyC7zFB9ORxlns3rJf8N1z13DOsQQyuQHvE6bfoYNgL2IiZ+9wU7rUReTQDJiNHj+f6V4CGO0QZoYmeziwmagOIkXgBaGgZrsuoPjeA+ZOepcPnW1fxB73mdjSFgge/T6ydylaIyfgOeD3ZVgtNTbjwdmMkdX1XHtfgJ9TmzLTvYnafxH0aurCZClgTOCoZEdrknUoP8BK05R/G2pfXl+VHDmVG0vWQTC2M6xGZQog/qA040sqOjMsPdyIwRLt2npe3N/63OtWrU2RQxj4D24k5glhT+AdYqRorvFyO/AG3FECWWuefB/D3caYMc9JhQk6PO+c52chwKAiodSnca+8efzE5o9+F/8du5/vnkpZZ1E8xv87+nFtaKJikKAF4V1mBK4MeASDIY2iFrVc25/9nvUaS5LpCPk9xjNUqjqjQGBHIP9k6SxkNglBD0vv1Q7cHF+s30XbnZRMivU/3rURa68kTyCnYHwj4SrFtE1/MUnok4zbPd89H7tcW1XljLDBwbcibT6lfSDmoBSjLily8lI9CYgOEjAZwJ7uH9TdQ5dxzmrD7bjGLugmiaGFYAliUSgtcJm7GcYh0HnYpR4/n9GeFNiwECEF4Hr6sGrn9CIDoBuhi6b27uX5JEQlTqsXa91xn/BejhneUdGH2Hz+sgUpe+LhYAuhHyWRbXk3KoIajMVWFZyEX/EfLZr603pJk77QNDXqoGPeYFogjKS+K5T1boACywnUoxu3n1MfstvEVRmLj4DtNfusIKT64IegVSO+6jtzcv4giTpS1VqLnxYf3Fz5Fm1NSsLUd9Tt+6X14RSgOaKVKO3xuHw1BxfRbZlBXrmf6Z2Xl/PPA4TDucAvsCcPYcDgOuHCJ66vwfpChWRPrJgY3f2f2Z5emStQ94a4+7txPShGooygGeFHJn9uEPhKw2GN09bTHSIf657NGlISpQiyfYVzISna43fgFyDlpSFsp7ZQAVEMJJVwnCcfnx9hW2aUCcquf5w02ytLZEJgsuBepBarB7SUP3SKIFPyWwzfc9+a3GdVpExqAb32qWzXJWwg7eAzIyBpszKYvU4ISFJZWhPe6R/4XRLXMo4kg6i4iq69JnRhSCAj4kAoa7Dfu19GXpCmWPyePx/5HedYcs/bhZq6vPA8Z5qiAeAx4bdm8u8rOWpEZA7bF4ddtZ/cHqPZo1GMx5I8vvHTqR5i22Ad4Qdlyu29d3ECWw04ljUcjF/hHwcawpN2yUz+jnPBar7jlCBoILEktSvX9bVARUtAFMabxB+HX5AbztTXS0jAqjWELDtkrCCRYHXjsup8s7l+ZElzEzyanJ8On/2chpZszQRCkDea7ZKl4uEZ4BZixiktcf78egdTUZhZll62n87dqBe1Tv2EfjlDr0OnOCGBoBOiL+esMAe6iEWiD9rYch3+38LecpjvELJGcvt8sM1oa2JJIC5hcaZ6blW4kUOhDgVXMF0nn9ke5FoYUmDIa/1E8u5pu6Mv4CdgzGVZ7Os2lsGSTFkVkdxxH5DffJsvk8bKZ39Z9KVrKCQ2IH7gQaRMa0n02v+3ileUF1tbX2nfudwzFWMMI0F6NnDssGUbYPWgEiNTKfOy3z2SSIJSgdpmnuOf2x0hlvMN3kNj+E9uUuZfYUugPyJv6GoxJbukhprQ0pkTXn3f3935WDVPlcVU+n9vzqeBogDgCOHj5y9vcLmwRKKPCpfiXbjfxx65WWgRSAdLvH9xomjBYtXgMKEwJcTtwbf3gpuNa1ZUHNQf0F8gGonTMwkGPk0zjSpeI4pgdqCWZOxsGvX8AIdLtZTpW9Afux9s25jUlQsCAGd1TSvWpJ3gm6BXI+dqvjPAPufJq5NjGuzfBp/eXJNWLEz9wgv3YS1qJZChH6Az4vepLTIFPP7HjhHCmerest/zXXhXdo63hDj5B28XpuGhgyAtIh4n6bBNes4F31AIWIreP5/rngYY8pBtBiz7PnCd6BCiRiADoZxmta6auNeD4I52Fw0dbN/F3vtZ3hIcSCV9BHK76VzjKKA4YPOlUu0u9t1B04yNFfKcep+CH1cbOBODyiC/F/Rv6sWkKmBLoKUkQquMdSG/+kqOlHvbaR9fX5gcPlUhS9yBNrY4rEnlC6D94DHjRmo0cyW91kj70qoaeJ7dX/2c79azDZfDHzgUrijmC2FPYBqioCipMWv76cbW0T5ZKZ58H8Zdytg3j0/FD3oCb+EnaWHAoCCh0KdsL7X59kTgz3nX/N27X/GeTllskQMHBXwAMbGopOKRIAQhWaY/bcY4PgLbzZ2WspzbH/8e+JpQ0u9I/33MM1lqPaNBIEXg/CTkLF42AsEJS+sVC9wbX64fSRuiVFKK+3/ktRZrsmRQYKZgeSPcav+0Bv8rSeOTiVs8nz3fvlxgFetMtwHH9yetAiW+oOYgEeMpaW0yS70DSAjSLFn+3q6f111IF3eOcUPz+Muu7CaLoYUgByJM6CewkzsThhxQdZii3j+f054ZGLWQJ4Xm+sBwryf2YgPgGaGHpvFu37kdxB+OppdpXXFf8l6R2eOR18fe/MRySal+ouHgCeEbZYwtcvckAhSMwJYSnINf8p8xGsATgInZ/tX0Oqqjo99gWOCJJLkrjvVoADzKxRSf27ZfVB+2G8kVH4uVwPN1wKxkJPwghuBSI7oqNXNsfhpJNRLR2oofFp/fXP2Wcw1RQtq32i3/ZfehFCA24pCo6DGyPC7HEpFpmX9eed/sHZvX+U8KBMn5xa+0JxGhwKA4of3naS/7ujxFHs+oWBad/V/bnmKZMND9xr97gTFBaIkijOAYIUNmee4KuESDW83PVtBdIV/tXtCaV1KrSLj9izMl6d2jeKAVoOIlHGyhdkmBSwwf1W2cJh+gX2Tba5QPyrS/ojTgK06kQ6Cx4FukEasBtI2/bkobU+7bC590n53cbBWqTHCBg/burNqlbaDtIDBjG+mtMpI9R8hDElWaEh7pn/rdFxc4TisDrviQLoEmtiFH4CGie+gl8Nk7WQZZEKJY+l4/H/td65h4T+HFoTqCsECn3OICIC/hs2btryT5ZARejtbXhN21H94ep9mo0ZMHmHyEshgpISLb4BwhA6XFrbc3aoJVTTPWMlyL3+KfCtrH030JU36Uc8YqgePU4GbgreSwK9G1rsB/SzsUg1vC34hfk1vTlN2LTwCwNYksPqStYJBgcuOuKnazsz5eCW3TORqbHw9fwFzLFnLNCsKWN6AtlmXkoRlgE+LBqSex+Hxzx03RlFmUnrbf0V2sl7sOxAS\" type=\"audio/wav\" />\n                    Your browser does not support the audio element.\n                </audio>\n              ",
                "text/plain": "<IPython.lib.display.Audio object>"
              }
            ],
            "_view_module": "@jupyter-widgets/output",
            "_model_module_version": "1.0.0",
            "_view_count": null,
            "_view_module_version": "1.0.0",
            "layout": "IPY_MODEL_2291bc41c5ec46cdab6af1532e54bcb6",
            "_model_module": "@jupyter-widgets/output"
          }
        },
        "18870746104b45ac9b14ba7595ecc8ca": {
          "model_module": "@jupyter-widgets/controls",
          "model_name": "SliderStyleModel",
          "state": {
            "_view_name": "StyleView",
            "handle_color": null,
            "_model_name": "SliderStyleModel",
            "description_width": "",
            "_view_module": "@jupyter-widgets/base",
            "_model_module_version": "1.5.0",
            "_view_count": null,
            "_view_module_version": "1.2.0",
            "_model_module": "@jupyter-widgets/controls"
          }
        },
        "d518195ebc4745aea98e4b92f376856f": {
          "model_module": "@jupyter-widgets/base",
          "model_name": "LayoutModel",
          "state": {
            "_view_name": "LayoutView",
            "grid_template_rows": null,
            "right": null,
            "justify_content": null,
            "_view_module": "@jupyter-widgets/base",
            "overflow": null,
            "_model_module_version": "1.2.0",
            "_view_count": null,
            "flex_flow": null,
            "width": null,
            "min_width": null,
            "border": null,
            "align_items": null,
            "bottom": null,
            "_model_module": "@jupyter-widgets/base",
            "top": null,
            "grid_column": null,
            "overflow_y": null,
            "overflow_x": null,
            "grid_auto_flow": null,
            "grid_area": null,
            "grid_template_columns": null,
            "flex": null,
            "_model_name": "LayoutModel",
            "justify_items": null,
            "grid_row": null,
            "max_height": null,
            "align_content": null,
            "visibility": null,
            "align_self": null,
            "height": null,
            "min_height": null,
            "padding": null,
            "grid_auto_rows": null,
            "grid_gap": null,
            "max_width": null,
            "order": null,
            "_view_module_version": "1.2.0",
            "grid_template_areas": null,
            "object_position": null,
            "object_fit": null,
            "grid_auto_columns": null,
            "margin": null,
            "display": null,
            "left": null
          }
        },
        "15a2db6e681d429690e2e77f7f7fad35": {
          "model_module": "@jupyter-widgets/controls",
          "model_name": "SliderStyleModel",
          "state": {
            "_view_name": "StyleView",
            "handle_color": null,
            "_model_name": "SliderStyleModel",
            "description_width": "",
            "_view_module": "@jupyter-widgets/base",
            "_model_module_version": "1.5.0",
            "_view_count": null,
            "_view_module_version": "1.2.0",
            "_model_module": "@jupyter-widgets/controls"
          }
        },
        "bcf2c92f7b304f2aa2d618f1fdd77eb8": {
          "model_module": "@jupyter-widgets/base",
          "model_name": "LayoutModel",
          "state": {
            "_view_name": "LayoutView",
            "grid_template_rows": null,
            "right": null,
            "justify_content": null,
            "_view_module": "@jupyter-widgets/base",
            "overflow": null,
            "_model_module_version": "1.2.0",
            "_view_count": null,
            "flex_flow": null,
            "width": null,
            "min_width": null,
            "border": null,
            "align_items": null,
            "bottom": null,
            "_model_module": "@jupyter-widgets/base",
            "top": null,
            "grid_column": null,
            "overflow_y": null,
            "overflow_x": null,
            "grid_auto_flow": null,
            "grid_area": null,
            "grid_template_columns": null,
            "flex": null,
            "_model_name": "LayoutModel",
            "justify_items": null,
            "grid_row": null,
            "max_height": null,
            "align_content": null,
            "visibility": null,
            "align_self": null,
            "height": null,
            "min_height": null,
            "padding": null,
            "grid_auto_rows": null,
            "grid_gap": null,
            "max_width": null,
            "order": null,
            "_view_module_version": "1.2.0",
            "grid_template_areas": null,
            "object_position": null,
            "object_fit": null,
            "grid_auto_columns": null,
            "margin": null,
            "display": null,
            "left": null
          }
        },
        "ea6a91214c1148f4ae792403b335edb5": {
          "model_module": "@jupyter-widgets/controls",
          "model_name": "SliderStyleModel",
          "state": {
            "_view_name": "StyleView",
            "handle_color": null,
            "_model_name": "SliderStyleModel",
            "description_width": "",
            "_view_module": "@jupyter-widgets/base",
            "_model_module_version": "1.5.0",
            "_view_count": null,
            "_view_module_version": "1.2.0",
            "_model_module": "@jupyter-widgets/controls"
          }
        },
        "a0856148d20f4138a1cede665757b0f6": {
          "model_module": "@jupyter-widgets/base",
          "model_name": "LayoutModel",
          "state": {
            "_view_name": "LayoutView",
            "grid_template_rows": null,
            "right": null,
            "justify_content": null,
            "_view_module": "@jupyter-widgets/base",
            "overflow": null,
            "_model_module_version": "1.2.0",
            "_view_count": null,
            "flex_flow": null,
            "width": null,
            "min_width": null,
            "border": null,
            "align_items": null,
            "bottom": null,
            "_model_module": "@jupyter-widgets/base",
            "top": null,
            "grid_column": null,
            "overflow_y": null,
            "overflow_x": null,
            "grid_auto_flow": null,
            "grid_area": null,
            "grid_template_columns": null,
            "flex": null,
            "_model_name": "LayoutModel",
            "justify_items": null,
            "grid_row": null,
            "max_height": null,
            "align_content": null,
            "visibility": null,
            "align_self": null,
            "height": null,
            "min_height": null,
            "padding": null,
            "grid_auto_rows": null,
            "grid_gap": null,
            "max_width": null,
            "order": null,
            "_view_module_version": "1.2.0",
            "grid_template_areas": null,
            "object_position": null,
            "object_fit": null,
            "grid_auto_columns": null,
            "margin": null,
            "display": null,
            "left": null
          }
        },
        "3a7348c5a7c746c0865a69f8496ae0d4": {
          "model_module": "@jupyter-widgets/controls",
          "model_name": "SliderStyleModel",
          "state": {
            "_view_name": "StyleView",
            "handle_color": null,
            "_model_name": "SliderStyleModel",
            "description_width": "",
            "_view_module": "@jupyter-widgets/base",
            "_model_module_version": "1.5.0",
            "_view_count": null,
            "_view_module_version": "1.2.0",
            "_model_module": "@jupyter-widgets/controls"
          }
        },
        "4b30c7f8da5d4e4d8b4e4dc1facabbe7": {
          "model_module": "@jupyter-widgets/base",
          "model_name": "LayoutModel",
          "state": {
            "_view_name": "LayoutView",
            "grid_template_rows": null,
            "right": null,
            "justify_content": null,
            "_view_module": "@jupyter-widgets/base",
            "overflow": null,
            "_model_module_version": "1.2.0",
            "_view_count": null,
            "flex_flow": null,
            "width": null,
            "min_width": null,
            "border": null,
            "align_items": null,
            "bottom": null,
            "_model_module": "@jupyter-widgets/base",
            "top": null,
            "grid_column": null,
            "overflow_y": null,
            "overflow_x": null,
            "grid_auto_flow": null,
            "grid_area": null,
            "grid_template_columns": null,
            "flex": null,
            "_model_name": "LayoutModel",
            "justify_items": null,
            "grid_row": null,
            "max_height": null,
            "align_content": null,
            "visibility": null,
            "align_self": null,
            "height": null,
            "min_height": null,
            "padding": null,
            "grid_auto_rows": null,
            "grid_gap": null,
            "max_width": null,
            "order": null,
            "_view_module_version": "1.2.0",
            "grid_template_areas": null,
            "object_position": null,
            "object_fit": null,
            "grid_auto_columns": null,
            "margin": null,
            "display": null,
            "left": null
          }
        }
      }
    }
  },
  "cells": [
    {
      "cell_type": "markdown",
      "metadata": {
        "id": "view-in-github",
        "colab_type": "text"
      },
      "source": [
        "<a href=\"https://colab.research.google.com/github/TOUATIMOHAnitMED/ALPR-/blob/master/01_Explorer_Sinudoides.ipynb\" target=\"_parent\"><img src=\"https://colab.research.google.com/assets/colab-badge.svg\" alt=\"Open In Colab\"/></a>"
      ]
    },
    {
      "cell_type": "markdown",
      "metadata": {
        "id": "u7pu7ptWrVJH",
        "colab_type": "text"
      },
      "source": [
        "# 01 - Explorer les sinusoïdes"
      ]
    },
    {
      "cell_type": "markdown",
      "metadata": {
        "id": "J5QZRsbErVJL",
        "colab_type": "text"
      },
      "source": [
        "## Simulation d'un signal sinusoïdal « analogique »\n",
        "\n",
        "$x(t) = A.sin(2πft+ϕ)$"
      ]
    },
    {
      "cell_type": "code",
      "metadata": {
        "id": "p2v6zIltrVJO",
        "colab_type": "code",
        "colab": {}
      },
      "source": [
        "import numpy as np\n",
        "\n",
        "A = 1 # Amplitude\n",
        "f = 3 # Fréquence en Hz\n",
        "sr = 44100 # Fréquence d'échantillonnage (_sampling rate_)\n",
        "t = np.arange(0,1, 1/sr) # en sec. // Liste de valeurs avec un interv. de 1/sr\n",
        "phi = 0"
      ],
      "execution_count": 0,
      "outputs": []
    },
    {
      "cell_type": "code",
      "metadata": {
        "id": "bHFgSPxPrVJa",
        "colab_type": "code",
        "outputId": "0d8d078c-bd27-4704-e061-6d640f5e8132",
        "colab": {
          "base_uri": "https://localhost:8080/",
          "height": 34
        }
      },
      "source": [
        "y = A*np.sin(2*np.pi*f*t + phi)\n",
        "type(t), t.dtype"
      ],
      "execution_count": 0,
      "outputs": [
        {
          "output_type": "execute_result",
          "data": {
            "text/plain": [
              "(numpy.ndarray, dtype('float64'))"
            ]
          },
          "metadata": {
            "tags": []
          },
          "execution_count": 2
        }
      ]
    },
    {
      "cell_type": "code",
      "metadata": {
        "id": "dB64IlIorVJl",
        "colab_type": "code",
        "outputId": "acc95a1f-3031-41ea-f37e-778f1c8a6ebd",
        "colab": {
          "base_uri": "https://localhost:8080/",
          "height": 50
        }
      },
      "source": [
        "y[0:9]"
      ],
      "execution_count": 0,
      "outputs": [
        {
          "output_type": "execute_result",
          "data": {
            "text/plain": [
              "array([0.        , 0.00042743, 0.00085486, 0.00128228, 0.00170971,\n",
              "       0.00213714, 0.00256456, 0.00299199, 0.00341941])"
            ]
          },
          "metadata": {
            "tags": []
          },
          "execution_count": 5
        }
      ]
    },
    {
      "cell_type": "markdown",
      "metadata": {
        "id": "BJTwmD9IrVJt",
        "colab_type": "text"
      },
      "source": [
        "## Dessiner les valeurs avec `matplotlib`"
      ]
    },
    {
      "cell_type": "code",
      "metadata": {
        "id": "UXju7SNDrVJy",
        "colab_type": "code",
        "outputId": "3bbe2524-db7c-4820-b5a1-494faae7dfef",
        "colab": {
          "base_uri": "https://localhost:8080/",
          "height": 279
        }
      },
      "source": [
        "import matplotlib.pyplot as plt\n",
        "plt.rc('figure', figsize=(16, 4))\n",
        "\n",
        "plt.plot(t, y)\n",
        "plt.axis([0,1,-1.1,1.1])\n",
        "plt.xlabel('Temps (s)')\n",
        "plt.ylabel('Amplitude')\n",
        "plt.show()"
      ],
      "execution_count": 0,
      "outputs": [
        {
          "output_type": "display_data",
          "data": {
            "image/png": "[encoded data removed]",
            "text/plain": [
              "<Figure size 1152x288 with 1 Axes>"
            ]
          },
          "metadata": {
            "tags": []
          }
        }
      ]
    },
    {
      "cell_type": "markdown",
      "metadata": {
        "id": "1i7tDj_hrVJ-",
        "colab_type": "text"
      },
      "source": [
        "**À noter l'utilisation de [`arange`](https://docs.scipy.org/doc/numpy/reference/generated/numpy.arange.html) ou de [`linspace`](https://docs.scipy.org/doc/numpy/reference/generated/numpy.linspace.html)**"
      ]
    },
    {
      "cell_type": "code",
      "metadata": {
        "id": "o1YxB721rVKC",
        "colab_type": "code",
        "outputId": "05f9acdd-a51c-4b15-d422-9e66baf6db3a",
        "colab": {
          "base_uri": "https://localhost:8080/",
          "height": 34
        }
      },
      "source": [
        "np.arange(0, 1, 0.1)"
      ],
      "execution_count": 0,
      "outputs": [
        {
          "output_type": "execute_result",
          "data": {
            "text/plain": [
              "array([0. , 0.1, 0.2, 0.3, 0.4, 0.5, 0.6, 0.7, 0.8, 0.9])"
            ]
          },
          "metadata": {
            "tags": []
          },
          "execution_count": 7
        }
      ]
    },
    {
      "cell_type": "code",
      "metadata": {
        "id": "Jgx1Zh1OrVKR",
        "colab_type": "code",
        "outputId": "7ddc9136-c148-409f-d71a-e6fe220a3553",
        "colab": {
          "base_uri": "https://localhost:8080/",
          "height": 118
        }
      },
      "source": [
        "np.arange(100)"
      ],
      "execution_count": 0,
      "outputs": [
        {
          "output_type": "execute_result",
          "data": {
            "text/plain": [
              "array([ 0,  1,  2,  3,  4,  5,  6,  7,  8,  9, 10, 11, 12, 13, 14, 15, 16,\n",
              "       17, 18, 19, 20, 21, 22, 23, 24, 25, 26, 27, 28, 29, 30, 31, 32, 33,\n",
              "       34, 35, 36, 37, 38, 39, 40, 41, 42, 43, 44, 45, 46, 47, 48, 49, 50,\n",
              "       51, 52, 53, 54, 55, 56, 57, 58, 59, 60, 61, 62, 63, 64, 65, 66, 67,\n",
              "       68, 69, 70, 71, 72, 73, 74, 75, 76, 77, 78, 79, 80, 81, 82, 83, 84,\n",
              "       85, 86, 87, 88, 89, 90, 91, 92, 93, 94, 95, 96, 97, 98, 99])"
            ]
          },
          "metadata": {
            "tags": []
          },
          "execution_count": 8
        }
      ]
    },
    {
      "cell_type": "code",
      "metadata": {
        "id": "3YUyV2ILrVKZ",
        "colab_type": "code",
        "outputId": "1b53d286-0ec1-4f56-cd44-d89e1bd23396",
        "colab": {
          "base_uri": "https://localhost:8080/",
          "height": 50
        }
      },
      "source": [
        "np.linspace(0, 1, 10)"
      ],
      "execution_count": 0,
      "outputs": [
        {
          "output_type": "execute_result",
          "data": {
            "text/plain": [
              "array([0.        , 0.11111111, 0.22222222, 0.33333333, 0.44444444,\n",
              "       0.55555556, 0.66666667, 0.77777778, 0.88888889, 1.        ])"
            ]
          },
          "metadata": {
            "tags": []
          },
          "execution_count": 9
        }
      ]
    },
    {
      "cell_type": "markdown",
      "metadata": {
        "id": "KojyOHo0rVKh",
        "colab_type": "text"
      },
      "source": [
        "## Forme complexe"
      ]
    },
    {
      "cell_type": "markdown",
      "metadata": {
        "id": "vMDar4FCrVKj",
        "colab_type": "text"
      },
      "source": [
        "### $$e^{j(2πft+ϕ)}=cos(2πft+ϕ)+jsin(2πft+ϕ)$$"
      ]
    },
    {
      "cell_type": "code",
      "metadata": {
        "id": "jN9hKLhurVKm",
        "colab_type": "code",
        "colab": {}
      },
      "source": [
        "sr = 44100 # Fréquence d'échantillonage\n",
        "\n",
        "f = 2\n",
        "duree = 1 \n",
        "t = np.linspace(0, duree, duree*sr)\n",
        "phi = 0"
      ],
      "execution_count": 0,
      "outputs": []
    },
    {
      "cell_type": "code",
      "metadata": {
        "id": "NDsYIhY_rVKu",
        "colab_type": "code",
        "colab": {}
      },
      "source": [
        "s = np.exp(1j*(2*np.pi*f*t + phi)) # totalité du signal\n",
        "yim = np.imag(s) # partie imaginaire\n",
        "xim = np.real(s) # partie réelle"
      ],
      "execution_count": 0,
      "outputs": []
    },
    {
      "cell_type": "code",
      "metadata": {
        "id": "VwoCyp6SrVK3",
        "colab_type": "code",
        "outputId": "765f08fb-66ad-4b62-9093-efdb07892f6e",
        "colab": {
          "base_uri": "https://localhost:8080/",
          "height": 279
        }
      },
      "source": [
        "plt.plot(t,yim) # Sinus\n",
        "plt.plot(t,xim) # Cosinus\n",
        "plt.axis([0, duree, -1.1, 1.1])\n",
        "plt.xlabel('Temps (s)')\n",
        "plt.ylabel('Amplitude')\n",
        "plt.show()"
      ],
      "execution_count": 0,
      "outputs": [
        {
          "output_type": "display_data",
          "data": {
            "image/png": "[encoded data removed]",
            "text/plain": [
              "<Figure size 1152x288 with 1 Axes>"
            ]
          },
          "metadata": {
            "tags": []
          }
        }
      ]
    },
    {
      "cell_type": "markdown",
      "metadata": {
        "id": "sIFNrOqHrVK-",
        "colab_type": "text"
      },
      "source": [
        "### Sous forme de fonction interactive ([`ipywidgets`](https://ipywidgets.readthedocs.io/en/stable/))"
      ]
    },
    {
      "cell_type": "code",
      "metadata": {
        "id": "deevlj0zrVLA",
        "colab_type": "code",
        "colab": {}
      },
      "source": [
        "from ipywidgets import interactive\n",
        "from IPython.display import Audio, display"
      ],
      "execution_count": 0,
      "outputs": []
    },
    {
      "cell_type": "code",
      "metadata": {
        "id": "lxe-5AVbrVLH",
        "colab_type": "code",
        "colab": {}
      },
      "source": [
        "def simple_freq(f1=220.0):\n",
        "    duree = 1\n",
        "    sr = 8000\n",
        "    t = np.linspace(0, duree, sr*duree)\n",
        "    signal = np.sin(2*np.pi*f1*t)\n",
        "    display(Audio(data=signal, rate=sr))\n",
        "    return signal"
      ],
      "execution_count": 0,
      "outputs": []
    },
    {
      "cell_type": "code",
      "metadata": {
        "id": "5sUmuukkrVLO",
        "colab_type": "code",
        "outputId": "cf53e53b-283c-417d-ea9c-8fc180f74359",
        "colab": {
          "base_uri": "https://localhost:8080/",
          "height": 107,
          "referenced_widgets": [
            "b897ba79f66d4f4a9509de3f9de3adff",
            "6cd61bbcb0fc4587997b155881530917",
            "8e408e68a3eb4d539ca351814328ef35",
            "115eddfdee8944f19068af1a29307871",
            "9557ad9a20ca48ffaa4fefc893e04d12",
            "3d97adb81ba34b0e8166467619bf6651"
          ]
        }
      },
      "source": [
        "interactive(simple_freq, f1=(200.0, 1000.0))"
      ],
      "execution_count": 0,
      "outputs": [
        {
          "output_type": "display_data",
          "data": {
            "application/vnd.jupyter.widget-view+json": {
              "model_id": "b897ba79f66d4f4a9509de3f9de3adff",
              "version_minor": 0,
              "version_major": 2
            },
            "text/plain": [
              "interactive(children=(FloatSlider(value=220.0, description='f1', max=1000.0, min=200.0), Output()), _dom_class…"
            ]
          },
          "metadata": {
            "tags": []
          }
        }
      ]
    },
    {
      "cell_type": "code",
      "metadata": {
        "id": "Fkwyw6RTrVLa",
        "colab_type": "code",
        "colab": {}
      },
      "source": [
        "# Plus de variables contrôlables\n",
        "def signal(A=0.5, f=440, phi = 0, duree=1):\n",
        "    sr = 8000\n",
        "    t = np.linspace(0, duree , sr*duree) # en secondes\n",
        "    x = A*np.sin(2*np.pi*f*t + phi)\n",
        "    display(Audio(data=x, rate=8000))\n",
        "    return x"
      ],
      "execution_count": 0,
      "outputs": []
    },
    {
      "cell_type": "code",
      "metadata": {
        "id": "z6VJfBBPrVLg",
        "colab_type": "code",
        "outputId": "2c9e3443-0384-473f-bd78-b665b7998997",
        "colab": {
          "base_uri": "https://localhost:8080/",
          "height": 203,
          "referenced_widgets": [
            "302c0e2189b7473db6215e8f4e399211",
            "1bf8c7f93f314889b2f836e31fbf9598",
            "4e612677d91d42719b004eb68fba6d63",
            "319eb438af3f4ba1b126ae5582ea984c",
            "0ba5d58c5b294c8d955e702e0425ada2",
            "c86d92c14185400780c2aadcda3799af",
            "3a7ae706fa0640a59b9fc0efb80d3b7f",
            "18870746104b45ac9b14ba7595ecc8ca",
            "d518195ebc4745aea98e4b92f376856f",
            "15a2db6e681d429690e2e77f7f7fad35",
            "bcf2c92f7b304f2aa2d618f1fdd77eb8",
            "ea6a91214c1148f4ae792403b335edb5",
            "a0856148d20f4138a1cede665757b0f6",
            "3a7348c5a7c746c0865a69f8496ae0d4",
            "4b30c7f8da5d4e4d8b4e4dc1facabbe7"
          ]
        }
      },
      "source": [
        "interactive(signal, A=(0.0,1.0), f=(1.0,1000.0), phi=(0.0,np.pi*2), duree=(1,3))"
      ],
      "execution_count": 0,
      "outputs": [
        {
          "output_type": "display_data",
          "data": {
            "application/vnd.jupyter.widget-view+json": {
              "model_id": "302c0e2189b7473db6215e8f4e399211",
              "version_minor": 0,
              "version_major": 2
            },
            "text/plain": [
              "interactive(children=(FloatSlider(value=0.5, description='A', max=1.0), FloatSlider(value=440.0, description='…"
            ]
          },
          "metadata": {
            "tags": []
          }
        }
      ]
    },
    {
      "cell_type": "markdown",
      "metadata": {
        "id": "MI7KEVU4rVLp",
        "colab_type": "text"
      },
      "source": [
        "### Visualisation de battements ([source](https://ipywidgets.readthedocs.io/en/stable/examples/Beat%20Frequencies.html))"
      ]
    },
    {
      "cell_type": "code",
      "metadata": {
        "id": "htIKF1sUrVLs",
        "colab_type": "code",
        "colab": {}
      },
      "source": [
        "def beat_freq(f1=1.0, f2=1.1):\n",
        "    tmax = 3\n",
        "    sr = 8000\n",
        "    times = np.arange(0, tmax, 1/sr) # np.linspace(0, tmax, sr*tmax)\n",
        "    s1 = np.sin(2*np.pi*f1*times)\n",
        "    s2 = np.sin(2*np.pi*f2*times)\n",
        "    signal = s1 + s2\n",
        "    plt.subplot(3, 1, 1)\n",
        "    plt.plot(times, s1)\n",
        "    plt.subplot(3, 1, 2)\n",
        "    plt.plot(times, s2)\n",
        "    plt.subplot(3, 1, 3)\n",
        "    plt.plot(times, signal)\n",
        "    display(Audio(data = signal, rate = sr))\n",
        "    return signal"
      ],
      "execution_count": 0,
      "outputs": []
    },
    {
      "cell_type": "code",
      "metadata": {
        "id": "kGBQ-Z2TrVLz",
        "colab_type": "code",
        "outputId": "fc10ecb3-4366-4c68-ac0d-63961b9793a3",
        "colab": {
          "base_uri": "https://localhost:8080/",
          "height": 358
        }
      },
      "source": [
        "beat_freq(f1=400.0, f2=401.0)"
      ],
      "execution_count": 0,
      "outputs": [
        {
          "output_type": "display_data",
          "data": {
            "text/html": [
              "\n",
              "                <audio controls=\"controls\" >\n",
              "                    <source src=\"data:audio/wav;base64,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\" type=\"audio/wav\" />\n",
              "                    Your browser does not support the audio element.\n",
              "                </audio>\n",
              "              "
            ],
            "text/plain": [
              "<IPython.lib.display.Audio object>"
            ]
          },
          "metadata": {
            "tags": []
          }
        },
        {
          "output_type": "execute_result",
          "data": {
            "text/plain": [
              "array([ 0.        ,  0.61878085,  1.17684058, ..., -1.61941668,\n",
              "       -1.17684058, -0.61878085])"
            ]
          },
          "metadata": {
            "tags": []
          },
          "execution_count": 19
        },
        {
          "output_type": "display_data",
          "data": {
            "image/png": "[encoded data removed]",
            "text/plain": [
              "<Figure size 1152x288 with 3 Axes>"
            ]
          },
          "metadata": {
            "tags": []
          }
        }
      ]
    },
    {
      "cell_type": "markdown",
      "metadata": {
        "id": "O7j5D1G7rVL7",
        "colab_type": "text"
      },
      "source": [
        "## Enregistrement en tant que fichier audio"
      ]
    },
    {
      "cell_type": "code",
      "metadata": {
        "id": "_dwMf0bUrVL9",
        "colab_type": "code",
        "colab": {}
      },
      "source": [
        "from scipy.io.wavfile import write\n",
        "\n",
        "N = 44100 # samples\n",
        "f = 440\n",
        "fs = 44100\n",
        "phi = 0\n",
        "n = np.arange(N)\n",
        "x = A*np.cos(2*np.pi*f*n/N + phi)"
      ],
      "execution_count": 0,
      "outputs": []
    },
    {
      "cell_type": "code",
      "metadata": {
        "id": "NA0eJMzurVMI",
        "colab_type": "code",
        "colab": {}
      },
      "source": [
        "write('sine440_1sec.wav', 44100, x)"
      ],
      "execution_count": 0,
      "outputs": []
    },
    {
      "cell_type": "code",
      "metadata": {
        "id": "YLpUfdSnr7pO",
        "colab_type": "code",
        "colab": {}
      },
      "source": [
        ""
      ],
      "execution_count": 0,
      "outputs": []
    }
  ]
}