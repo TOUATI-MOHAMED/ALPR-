{
 "cells": [
  {
   "cell_type": "code",
   "execution_count": 1,
   "metadata": {},
   "outputs": [],
   "source": [
    "#functions_to_use\n",
    "#here we will define all our functions to use in the application\n",
    "###############################################################\n",
    "#imports\n",
    "import tkinter as tk                # python 3\n",
    "from tkinter import font  as tkfont # python 3 \n",
    "#import Tkinter as tk     # python 2\n",
    "#import tkFont as tkfont  # python 2\n",
    "import imutils\n",
    "import glob\n",
    "import numpy as np\n",
    "from tkinter import ttk as ttk\n",
    "import cv2\n",
    "import json\n",
    "import csv\n",
    "from os import environ\n",
    "import os\n",
    "import datetime\n",
    "import petl as etl\n",
    "##################################################################\n",
    "def download_file(url, filename=None):\n",
    "        \"\"\"\n",
    "        Download a file - optionally with a filename\n",
    "        :param url: URL to be requested\n",
    "        :param filename: optional filename\n",
    "        :return: output filename\n",
    "        \"\"\"\n",
    "        # take filename if provided\n",
    "        if filename:\n",
    "            local_filename = filename\n",
    "        else:\n",
    "            local_filename = url.split('/')[-1]\n",
    "\n",
    "        # NOTE the stream=True parameter\n",
    "        r = requests.get(url, auth=DIGEST, stream=True)\n",
    "        with open(local_filename, 'wb') as f:\n",
    "            for chunk in r.iter_content(chunk_size=1024):\n",
    "                if chunk: # filter out keep-alive new chunks\n",
    "                    f.write(chunk)\n",
    "        return local_filename\n",
    "\n"
   ]
  },
  {
   "cell_type": "code",
   "execution_count": null,
   "metadata": {},
   "outputs": [],
   "source": []
  }
 ],
 "metadata": {
  "kernelspec": {
   "display_name": "Python 3",
   "language": "python",
   "name": "python3"
  },
  "language_info": {
   "codemirror_mode": {
    "name": "ipython",
    "version": 3
   },
   "file_extension": ".py",
   "mimetype": "text/x-python",
   "name": "python",
   "nbconvert_exporter": "python",
   "pygments_lexer": "ipython3",
   "version": "3.6.6"
  }
 },
 "nbformat": 4,
 "nbformat_minor": 2
}
