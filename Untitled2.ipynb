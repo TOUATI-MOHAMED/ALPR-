{
 "cells": [
  {
   "cell_type": "code",
   "execution_count": 20,
   "metadata": {
    "scrolled": true
   },
   "outputs": [
    {
     "data": {
      "text/plain": [
       "[0, 4, 6, 9, 13, 15]"
      ]
     },
     "execution_count": 20,
     "metadata": {},
     "output_type": "execute_result"
    }
   ],
   "source": [
    "#The Longest Increasing Subsequence\n",
    "import itertools\n",
    "#given a list s, res returns the length of the longest contigious Increasing Subsequence \n",
    "def res(s):\n",
    "    l1=[]\n",
    "    for i in range (0,len(s)+1):\n",
    "        for j in range (i,len(s)+1):\n",
    "            l=s[i:j]\n",
    "            l.sort()\n",
    "            #print (l)\n",
    "            if s[i:j]==l:\n",
    "                #print (list[i:j])\n",
    "                if len(l)>len(l1):\n",
    "                    l1=l\n",
    "    return l1, len(l1)\n",
    "#given n as the length of a list and m as the lenth of the desired bitmask array, bitmasks return all the \n",
    "#possible bitmasks for the given length\n",
    "def bitmasks(n,m):\n",
    "    if m < n:\n",
    "        if m > 0:\n",
    "            for x in bitmasks(n-1,m-1):\n",
    "                yield (1 << (n-1)) + x\n",
    "            for x in bitmasks(n-1,m):\n",
    "                yield x\n",
    "        else:\n",
    "            yield 0\n",
    "    else:\n",
    "        yield (1 << n) - 1\n",
    "        \n",
    "s=[0,8,4,12,2,10,6,14,1,9,5,13,3,11,7,15]\n",
    "#s=[1,2,3,-1,4,5,6,7,3,2]\n",
    "r1=0\n",
    "l1=[]\n",
    "#now that we formed all the possible subsequences obtained from a list s (contegious and non contigious) using bitmask,\n",
    "#we are going to search in each for the  the longest contigious Increasing Subsequence using res. then we are going to \n",
    "#return the highest len of all of these \n",
    "for i in range(1,len(s)):\n",
    "   #search for all the possible subsequences (contigious and non contigious) of lenth i\n",
    "    for b in bitmasks(len(s),i):\n",
    "        \n",
    "        d='{:04b}'.format(b)\n",
    "        bm=[]\n",
    "        for element in range (0,len(d)):\n",
    "            bm.append(int(d[element]))\n",
    "        #print (bm)\n",
    "        #obtaining the filtred result of appliyin the bitmask array with the initial sequence (list)\n",
    "        filtered = itertools.compress(s, bm)\n",
    "        #converting the resulted iteretor into a list so that we could apply the list methods\n",
    "        l=list(filtered)\n",
    "        #print (l)\n",
    "        l, r=res(l)\n",
    "        #print(r)\n",
    "        if r>r1:\n",
    "            r1=r\n",
    "            l1=l\n",
    "l1"
   ]
  },
  {
   "cell_type": "code",
   "execution_count": 21,
   "metadata": {},
   "outputs": [
    {
     "data": {
      "text/plain": [
       "'5,3'"
      ]
     },
     "execution_count": 21,
     "metadata": {},
     "output_type": "execute_result"
    }
   ],
   "source": [
    "#The Longest Common Subsequence\n",
    "import itertools\n",
    "s1=[5,6,3,2]\n",
    "s2=[5,3,6,8]\n",
    "\n",
    "#list.sort()\n",
    "#list\n",
    "import itertools\n",
    "def findsubsets(S,m):\n",
    "    return list(itertools.combinations(S, m))\n",
    "def lcs(s1,s2):\n",
    "    \n",
    "    sub1=[]\n",
    "    sub2=[]\n",
    "    sub11=[]\n",
    "    sub22=[]\n",
    "    for i in range(0,len(s1)+1):\n",
    "        sub1.append(findsubsets(s1,i))\n",
    "    for i in range(0,len(s2)+1):\n",
    "        sub2.append(findsubsets(s2,i))\n",
    "    for i in range(0,len(s1)+1):\n",
    "        for j in range(0,len(sub1[i])):\n",
    "            sub11.append(sub1[i][j])\n",
    "    for i in range(0,len(s2)+1):\n",
    "        for j in range(0,len(sub2[i])):\n",
    "            sub22.append(sub2[i][j])\n",
    "    commun=[]\n",
    "    for i in range (0,len(sub11)):\n",
    "        #print(sub11[i]) \n",
    "        if sub11[i] in sub22:\n",
    "      #     print (\"yes\")\n",
    "            commun.append(sub11[i])\n",
    "    return commun[len(commun)-1]\n",
    "k=lcs(s1,s2)\n",
    "s=''\n",
    "for i in range (0,len(k)):\n",
    "    s=s+str(k[i])+','\n",
    "s[:-1]"
   ]
  },
  {
   "cell_type": "code",
   "execution_count": null,
   "metadata": {},
   "outputs": [],
   "source": []
  }
 ],
 "metadata": {
  "kernelspec": {
   "display_name": "Python 3",
   "language": "python",
   "name": "python3"
  },
  "language_info": {
   "codemirror_mode": {
    "name": "ipython",
    "version": 3
   },
   "file_extension": ".py",
   "mimetype": "text/x-python",
   "name": "python",
   "nbconvert_exporter": "python",
   "pygments_lexer": "ipython3",
   "version": "3.6.6"
  }
 },
 "nbformat": 4,
 "nbformat_minor": 2
}
